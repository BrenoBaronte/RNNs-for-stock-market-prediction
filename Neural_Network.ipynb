{
  "nbformat": 4,
  "nbformat_minor": 0,
  "metadata": {
    "colab": {
      "name": "Rede Neural TCC - Generic.ipynb",
      "provenance": [],
      "collapsed_sections": [],
      "authorship_tag": "ABX9TyO3zcsA2FEudYwYMa0VjzcX",
      "include_colab_link": true
    },
    "kernelspec": {
      "display_name": "Python 3",
      "name": "python3"
    }
  },
  "cells": [
    {
      "cell_type": "markdown",
      "metadata": {
        "id": "view-in-github",
        "colab_type": "text"
      },
      "source": [
        "<a href=\"https://colab.research.google.com/github/BrenoBaronte/RNNs-for-stock-market-prediction/blob/master/Neural_Network.ipynb\" target=\"_parent\"><img src=\"https://colab.research.google.com/assets/colab-badge.svg\" alt=\"Open In Colab\"/></a>"
      ]
    },
    {
      "cell_type": "code",
      "metadata": {
        "id": "hJguomNpBfBj"
      },
      "source": [
        "label = \"H60SMAEC16GC\""
      ],
      "execution_count": null,
      "outputs": []
    },
    {
      "cell_type": "code",
      "metadata": {
        "colab": {
          "base_uri": "https://localhost:8080/"
        },
        "id": "lyc0Sx0pOMHL",
        "outputId": "c04183d6-6cd3-41c6-b5ac-94d9022e6742"
      },
      "source": [
        "training_file_name = \"\"\n",
        "training_file_id = \"\"\n",
        "test_file_name = \"\"\n",
        "test_file_id = \"\"\n",
        "\n",
        "labelInitial = label[0:1]\n",
        "\n",
        "if (labelInitial == 'H'):\n",
        "  training_file_name = \"dataset_daily_msft_half_training.csv\"\n",
        "  training_file_id = \"1Z5uVzXZlomQ5Z-_q-X60upKSUpm724K7\"\n",
        "  test_file_name = \"dataset_daily_msft_half_test.csv\"\n",
        "  test_file_id = \"15iacoJgstQA0JR0awd0qnhguEu0Lc9zE\"\n",
        "\n",
        "elif (labelInitial == 'T'):\n",
        "  training_file_name = \"dataset_daily_msft_training.csv\"\n",
        "  training_file_id = \"12bWmhsQoeAOk2JLCOzlRsk0IMQaKD6s2\"\n",
        "  test_file_name = \"dataset_daily_msft_test.csv\"\n",
        "  test_file_id = \"10oiV6jvHGtiXgDDJmMByxBhiyYKjaQCw\"\n",
        "\n",
        "else:\n",
        "  raise Exception(\"[labelInitial] Invalid argument.\")\n",
        "\n",
        "print(training_file_name)\n",
        "print(training_file_id)\n",
        "print(test_file_name)\n",
        "print(test_file_id)"
      ],
      "execution_count": null,
      "outputs": [
        {
          "output_type": "stream",
          "text": [
            "dataset_daily_msft_half_training.csv\n",
            "1Z5uVzXZlomQ5Z-_q-X60upKSUpm724K7\n",
            "dataset_daily_msft_half_test.csv\n",
            "15iacoJgstQA0JR0awd0qnhguEu0Lc9zE\n"
          ],
          "name": "stdout"
        }
      ]
    },
    {
      "cell_type": "code",
      "metadata": {
        "colab": {
          "base_uri": "https://localhost:8080/"
        },
        "id": "Wz4H3_Ig1nWv",
        "outputId": "2ff537da-ed70-4061-e918-3f29983a80b7"
      },
      "source": [
        "\n",
        " # Step 0 - importing the dataset file\n",
        "!pip install pydrive\n",
        "from pydrive.auth import GoogleAuth\n",
        "from pydrive.drive import GoogleDrive\n",
        "from google.colab import auth\n",
        "from oauth2client.client import GoogleCredentials\n",
        "\n",
        "auth.authenticate_user()\n",
        "gauth = GoogleAuth()\n",
        "gauth.credentials = GoogleCredentials.get_application_default()\n",
        "drive = GoogleDrive(gauth)\n",
        "\n",
        "downloaded = drive.CreateFile({'id': training_file_id})\n",
        "downloaded.GetContentFile(training_file_name)"
      ],
      "execution_count": null,
      "outputs": [
        {
          "output_type": "stream",
          "text": [
            "Requirement already satisfied: pydrive in /usr/local/lib/python3.7/dist-packages (1.3.1)\n",
            "Requirement already satisfied: PyYAML>=3.0 in /usr/local/lib/python3.7/dist-packages (from pydrive) (3.13)\n",
            "Requirement already satisfied: google-api-python-client>=1.2 in /usr/local/lib/python3.7/dist-packages (from pydrive) (1.12.8)\n",
            "Requirement already satisfied: oauth2client>=4.0.0 in /usr/local/lib/python3.7/dist-packages (from pydrive) (4.1.3)\n",
            "Requirement already satisfied: uritemplate<4dev,>=3.0.0 in /usr/local/lib/python3.7/dist-packages (from google-api-python-client>=1.2->pydrive) (3.0.1)\n",
            "Requirement already satisfied: six<2dev,>=1.13.0 in /usr/local/lib/python3.7/dist-packages (from google-api-python-client>=1.2->pydrive) (1.15.0)\n",
            "Requirement already satisfied: google-auth>=1.16.0 in /usr/local/lib/python3.7/dist-packages (from google-api-python-client>=1.2->pydrive) (1.32.1)\n",
            "Requirement already satisfied: google-api-core<2dev,>=1.21.0 in /usr/local/lib/python3.7/dist-packages (from google-api-python-client>=1.2->pydrive) (1.26.3)\n",
            "Requirement already satisfied: google-auth-httplib2>=0.0.3 in /usr/local/lib/python3.7/dist-packages (from google-api-python-client>=1.2->pydrive) (0.0.4)\n",
            "Requirement already satisfied: httplib2<1dev,>=0.15.0 in /usr/local/lib/python3.7/dist-packages (from google-api-python-client>=1.2->pydrive) (0.17.4)\n",
            "Requirement already satisfied: pyasn1>=0.1.7 in /usr/local/lib/python3.7/dist-packages (from oauth2client>=4.0.0->pydrive) (0.4.8)\n",
            "Requirement already satisfied: pyasn1-modules>=0.0.5 in /usr/local/lib/python3.7/dist-packages (from oauth2client>=4.0.0->pydrive) (0.2.8)\n",
            "Requirement already satisfied: rsa>=3.1.4 in /usr/local/lib/python3.7/dist-packages (from oauth2client>=4.0.0->pydrive) (4.7.2)\n",
            "Requirement already satisfied: setuptools>=40.3.0 in /usr/local/lib/python3.7/dist-packages (from google-auth>=1.16.0->google-api-python-client>=1.2->pydrive) (57.0.0)\n",
            "Requirement already satisfied: cachetools<5.0,>=2.0.0 in /usr/local/lib/python3.7/dist-packages (from google-auth>=1.16.0->google-api-python-client>=1.2->pydrive) (4.2.2)\n",
            "Requirement already satisfied: requests<3.0.0dev,>=2.18.0 in /usr/local/lib/python3.7/dist-packages (from google-api-core<2dev,>=1.21.0->google-api-python-client>=1.2->pydrive) (2.23.0)\n",
            "Requirement already satisfied: packaging>=14.3 in /usr/local/lib/python3.7/dist-packages (from google-api-core<2dev,>=1.21.0->google-api-python-client>=1.2->pydrive) (20.9)\n",
            "Requirement already satisfied: googleapis-common-protos<2.0dev,>=1.6.0 in /usr/local/lib/python3.7/dist-packages (from google-api-core<2dev,>=1.21.0->google-api-python-client>=1.2->pydrive) (1.53.0)\n",
            "Requirement already satisfied: protobuf>=3.12.0 in /usr/local/lib/python3.7/dist-packages (from google-api-core<2dev,>=1.21.0->google-api-python-client>=1.2->pydrive) (3.17.3)\n",
            "Requirement already satisfied: pytz in /usr/local/lib/python3.7/dist-packages (from google-api-core<2dev,>=1.21.0->google-api-python-client>=1.2->pydrive) (2018.9)\n",
            "Requirement already satisfied: urllib3!=1.25.0,!=1.25.1,<1.26,>=1.21.1 in /usr/local/lib/python3.7/dist-packages (from requests<3.0.0dev,>=2.18.0->google-api-core<2dev,>=1.21.0->google-api-python-client>=1.2->pydrive) (1.24.3)\n",
            "Requirement already satisfied: certifi>=2017.4.17 in /usr/local/lib/python3.7/dist-packages (from requests<3.0.0dev,>=2.18.0->google-api-core<2dev,>=1.21.0->google-api-python-client>=1.2->pydrive) (2021.5.30)\n",
            "Requirement already satisfied: chardet<4,>=3.0.2 in /usr/local/lib/python3.7/dist-packages (from requests<3.0.0dev,>=2.18.0->google-api-core<2dev,>=1.21.0->google-api-python-client>=1.2->pydrive) (3.0.4)\n",
            "Requirement already satisfied: idna<3,>=2.5 in /usr/local/lib/python3.7/dist-packages (from requests<3.0.0dev,>=2.18.0->google-api-core<2dev,>=1.21.0->google-api-python-client>=1.2->pydrive) (2.10)\n",
            "Requirement already satisfied: pyparsing>=2.0.2 in /usr/local/lib/python3.7/dist-packages (from packaging>=14.3->google-api-core<2dev,>=1.21.0->google-api-python-client>=1.2->pydrive) (2.4.7)\n"
          ],
          "name": "stdout"
        }
      ]
    },
    {
      "cell_type": "code",
      "metadata": {
        "colab": {
          "base_uri": "https://localhost:8080/"
        },
        "id": "_dqU5HuyC1Fl",
        "outputId": "bedc5d02-447a-400c-8a71-ae1be1f355bc"
      },
      "source": [
        "# Decode label for entire dataset - T initial\n",
        "\n",
        "try:\n",
        "    def labelHasCorrectLength(label):\n",
        "        if (len(label) == 12):\n",
        "            return True\n",
        "        else:\n",
        "            return False\n",
        "\n",
        "    def labelHasCorrectInitial(code):\n",
        "        if (code == 'H' or code == 'T'):\n",
        "            return True\n",
        "        else:\n",
        "            return False        \n",
        "\n",
        "    def getDaysToLookBack(code):\n",
        "        if (code == '30'):\n",
        "            return 30\n",
        "        if (code == '60'):\n",
        "            return 60\n",
        "        else:\n",
        "            raise Exception(\"[GetDaysToLookBack] Invalid argument.\")\n",
        "\n",
        "    def getOptimizerAlgorithm(code):\n",
        "        if (code == 'A' or code == 'a'):\n",
        "            return 'adam'\n",
        "        if (code == 'S' or code == 's'):\n",
        "            return 'SGD'\n",
        "        else:\n",
        "            raise Exception(\"[GetOptimizerAlgorithm] Invalid argument.\")\n",
        "\n",
        "    def getLossAlgorithm(code):\n",
        "        if (code == 'MSE' or code == 'mse'):\n",
        "            return 'mean_squared_error'\n",
        "        if (code == 'MAE' or code == 'mae'):\n",
        "            return 'mean_absolute_error'\n",
        "        else:\n",
        "            raise Exception(\"[GetLossAlgorithm] Invalid argument.\")\n",
        "\n",
        "    def getEpochs(code):\n",
        "        if (code == 'L' or code == 'l'):\n",
        "            return 50\n",
        "        if (code == 'C' or code == 'c'):\n",
        "            return 100\n",
        "        else:\n",
        "            raise Exception(\"[GetEpochs] Invalid argument.\")\n",
        "\n",
        "    def getBatchSize(code):\n",
        "        if (code == '16' or code == '32' or code == '64'):\n",
        "            return code\n",
        "        else:\n",
        "            raise Exception(\"[GetBatchSize] Invalid argument.\")\n",
        "\n",
        "    def getLayers(code):\n",
        "        if (code == '5C' or \n",
        "            code == '6C' or \n",
        "            code == '9C' or \n",
        "            code == 'XC' or \n",
        "            code == 'GC'):\n",
        "            return code\n",
        "        else:\n",
        "            raise Exception(\"[GetLayers] Invalid argument.\")\n",
        "\n",
        "    if (labelHasCorrectLength(label) == False):\n",
        "        raise Exception(\"[Label length] Invalid argument.\")\n",
        "    \n",
        "    if (labelHasCorrectInitial(label[0:1]) == False):\n",
        "        raise Exception(\"[Label initial] Invalid argument.\")\n",
        "    \n",
        "    days_to_look_back = int(getDaysToLookBack(label[1:3]))\n",
        "    optimizer_alg = getOptimizerAlgorithm(label[3:4])\n",
        "    loss_alg = getLossAlgorithm(label[4:7])\n",
        "    epochs_to_train = int(getEpochs(label[7:8]))\n",
        "    batch_size_of_train = int(getBatchSize(label[8:10]))\n",
        "    network_layers = getLayers(label[10:12])\n",
        "\n",
        "    print(\"d t l b: \", days_to_look_back)\n",
        "    print(\"o alg: \", optimizer_alg)\n",
        "    print(\"l alg: \", loss_alg)\n",
        "    print(\"e: \", epochs_to_train)\n",
        "    print(\"b s o t: \", batch_size_of_train)\n",
        "    print(\"n l: \", network_layers)\n",
        "    \n",
        "except e:\n",
        "    print(e)"
      ],
      "execution_count": null,
      "outputs": [
        {
          "output_type": "stream",
          "text": [
            "d t l b:  60\n",
            "o alg:  SGD\n",
            "l alg:  mean_absolute_error\n",
            "e:  100\n",
            "b s o t:  16\n",
            "n l:  GC\n"
          ],
          "name": "stdout"
        }
      ]
    },
    {
      "cell_type": "code",
      "metadata": {
        "id": "C0p16Q1J7ZXy"
      },
      "source": [
        "import numpy as np\n",
        "import matplotlib.pyplot as plt\n",
        "import pandas as pd"
      ],
      "execution_count": null,
      "outputs": []
    },
    {
      "cell_type": "code",
      "metadata": {
        "id": "rn6CKtdL7iZm"
      },
      "source": [
        "dataset_train = pd.read_csv(training_file_name)\n",
        "training_set = dataset_train.iloc[:, 1:2].values"
      ],
      "execution_count": null,
      "outputs": []
    },
    {
      "cell_type": "code",
      "metadata": {
        "colab": {
          "base_uri": "https://localhost:8080/",
          "height": 204
        },
        "id": "C2CbdGMj7mC5",
        "outputId": "19f25d12-8597-4d36-d4c4-fa36e0aa41f0"
      },
      "source": [
        "dataset_train.head()"
      ],
      "execution_count": null,
      "outputs": [
        {
          "output_type": "execute_result",
          "data": {
            "text/html": [
              "<div>\n",
              "<style scoped>\n",
              "    .dataframe tbody tr th:only-of-type {\n",
              "        vertical-align: middle;\n",
              "    }\n",
              "\n",
              "    .dataframe tbody tr th {\n",
              "        vertical-align: top;\n",
              "    }\n",
              "\n",
              "    .dataframe thead th {\n",
              "        text-align: right;\n",
              "    }\n",
              "</style>\n",
              "<table border=\"1\" class=\"dataframe\">\n",
              "  <thead>\n",
              "    <tr style=\"text-align: right;\">\n",
              "      <th></th>\n",
              "      <th>timestamp</th>\n",
              "      <th>open</th>\n",
              "      <th>high</th>\n",
              "      <th>low</th>\n",
              "      <th>close</th>\n",
              "      <th>volume</th>\n",
              "    </tr>\n",
              "  </thead>\n",
              "  <tbody>\n",
              "    <tr>\n",
              "      <th>0</th>\n",
              "      <td>2015-06-19</td>\n",
              "      <td>46.79</td>\n",
              "      <td>46.825</td>\n",
              "      <td>45.9900</td>\n",
              "      <td>46.100</td>\n",
              "      <td>63837036</td>\n",
              "    </tr>\n",
              "    <tr>\n",
              "      <th>1</th>\n",
              "      <td>2015-06-18</td>\n",
              "      <td>46.22</td>\n",
              "      <td>46.800</td>\n",
              "      <td>46.1700</td>\n",
              "      <td>46.720</td>\n",
              "      <td>32658343</td>\n",
              "    </tr>\n",
              "    <tr>\n",
              "      <th>2</th>\n",
              "      <td>2015-06-17</td>\n",
              "      <td>45.73</td>\n",
              "      <td>46.070</td>\n",
              "      <td>45.3600</td>\n",
              "      <td>45.970</td>\n",
              "      <td>28704061</td>\n",
              "    </tr>\n",
              "    <tr>\n",
              "      <th>3</th>\n",
              "      <td>2015-06-16</td>\n",
              "      <td>45.35</td>\n",
              "      <td>46.240</td>\n",
              "      <td>45.3000</td>\n",
              "      <td>45.830</td>\n",
              "      <td>27070306</td>\n",
              "    </tr>\n",
              "    <tr>\n",
              "      <th>4</th>\n",
              "      <td>2015-06-15</td>\n",
              "      <td>45.45</td>\n",
              "      <td>45.650</td>\n",
              "      <td>45.0201</td>\n",
              "      <td>45.475</td>\n",
              "      <td>33254517</td>\n",
              "    </tr>\n",
              "  </tbody>\n",
              "</table>\n",
              "</div>"
            ],
            "text/plain": [
              "    timestamp   open    high      low   close    volume\n",
              "0  2015-06-19  46.79  46.825  45.9900  46.100  63837036\n",
              "1  2015-06-18  46.22  46.800  46.1700  46.720  32658343\n",
              "2  2015-06-17  45.73  46.070  45.3600  45.970  28704061\n",
              "3  2015-06-16  45.35  46.240  45.3000  45.830  27070306\n",
              "4  2015-06-15  45.45  45.650  45.0201  45.475  33254517"
            ]
          },
          "metadata": {
            "tags": []
          },
          "execution_count": 131
        }
      ]
    },
    {
      "cell_type": "code",
      "metadata": {
        "id": "GiDLKVeF73kJ"
      },
      "source": [
        "from sklearn.preprocessing import MinMaxScaler\n",
        "sc = MinMaxScaler(feature_range = (0, 1))\n",
        "training_set_scaled = sc.fit_transform(training_set)"
      ],
      "execution_count": null,
      "outputs": []
    },
    {
      "cell_type": "code",
      "metadata": {
        "colab": {
          "base_uri": "https://localhost:8080/"
        },
        "id": "SGDT9KQbMGSL",
        "outputId": "32448877-1be1-402a-f6e5-ddcfdc12dd20"
      },
      "source": [
        "training_set_scaled.shape"
      ],
      "execution_count": null,
      "outputs": [
        {
          "output_type": "execute_result",
          "data": {
            "text/plain": [
              "(1656, 1)"
            ]
          },
          "metadata": {
            "tags": []
          },
          "execution_count": 133
        }
      ]
    },
    {
      "cell_type": "code",
      "metadata": {
        "id": "fnRioeipLO6o"
      },
      "source": [
        "training_dataset_lines_count = training_set_scaled.shape[0]"
      ],
      "execution_count": null,
      "outputs": []
    },
    {
      "cell_type": "code",
      "metadata": {
        "id": "W5a39bS87_Cx"
      },
      "source": [
        "X_train = []\n",
        "y_train = []\n",
        "for i in range(days_to_look_back, training_dataset_lines_count):\n",
        "    X_train.append(training_set_scaled[i-days_to_look_back:i, 0])\n",
        "    y_train.append(training_set_scaled[i, 0])\n",
        "X_train, y_train = np.array(X_train), np.array(y_train)\n",
        "\n",
        "X_train = np.reshape(X_train, (X_train.shape[0], X_train.shape[1], 1))"
      ],
      "execution_count": null,
      "outputs": []
    },
    {
      "cell_type": "code",
      "metadata": {
        "id": "Tny3cPG98HQu"
      },
      "source": [
        "from keras.models import Sequential\n",
        "from keras.layers import Dense\n",
        "from keras.layers import LSTM\n",
        "from keras.layers import Dropout\n",
        "from keras.layers import GRU"
      ],
      "execution_count": null,
      "outputs": []
    },
    {
      "cell_type": "code",
      "metadata": {
        "id": "qECLlhCqFTkL"
      },
      "source": [
        "def createModel(code):\n",
        "    if (code == '5C'):\n",
        "        regressor = Sequential()\n",
        "\n",
        "        regressor.add(LSTM(units = 50, return_sequences = True, input_shape = (X_train.shape[1], 1)))\n",
        "        regressor.add(Dropout(0.2))\n",
        "\n",
        "        regressor.add(LSTM(units = 50))\n",
        "        regressor.add(Dropout(0.2))\n",
        "\n",
        "        regressor.add(Dense(units = 1))\n",
        "\n",
        "        return regressor\n",
        "\n",
        "    if (code == '6C'):\n",
        "        regressor = Sequential()\n",
        "\n",
        "        regressor.add(LSTM(units = 50, return_sequences = True, input_shape = (X_train.shape[1], 1)))\n",
        "        regressor.add(Dropout(0.2))\n",
        "\n",
        "        regressor.add(LSTM(units = 50))\n",
        "        regressor.add(Dropout(0.2))\n",
        "\n",
        "        regressor.add(Dense(units = 25))\n",
        "        regressor.add(Dense(units = 1))\n",
        "\n",
        "        return regressor\n",
        "\n",
        "    if (code == '9C'):\n",
        "        regressor = Sequential()\n",
        "\n",
        "        regressor.add(LSTM(units = 50, return_sequences = True, input_shape = (X_train.shape[1], 1)))\n",
        "        regressor.add(Dropout(0.2))\n",
        "\n",
        "        regressor.add(LSTM(units = 50, return_sequences = True, input_shape = (X_train.shape[1], 1)))\n",
        "        regressor.add(Dropout(0.2))\n",
        "\n",
        "        regressor.add(LSTM(units = 50, return_sequences = True, input_shape = (X_train.shape[1], 1)))\n",
        "        regressor.add(Dropout(0.2))\n",
        "\n",
        "        regressor.add(LSTM(units = 50))\n",
        "        regressor.add(Dropout(0.2))\n",
        "\n",
        "        regressor.add(Dense(units = 1))\n",
        "\n",
        "        return regressor\n",
        "\n",
        "    if (code == 'XC'):\n",
        "        regressor = Sequential()\n",
        "\n",
        "        regressor.add(LSTM(units = 50, return_sequences = True, input_shape = (X_train.shape[1], 1)))\n",
        "        regressor.add(Dropout(0.2))\n",
        "\n",
        "        regressor.add(LSTM(units = 50, return_sequences = True, input_shape = (X_train.shape[1], 1)))\n",
        "        regressor.add(Dropout(0.2))\n",
        "\n",
        "        regressor.add(LSTM(units = 50, return_sequences = True, input_shape = (X_train.shape[1], 1)))\n",
        "        regressor.add(Dropout(0.2))\n",
        "\n",
        "        regressor.add(LSTM(units = 50))\n",
        "        regressor.add(Dropout(0.2))\n",
        "\n",
        "        regressor.add(Dense(units = 25))\n",
        "        regressor.add(Dense(units = 1))\n",
        "\n",
        "        return regressor\n",
        "\n",
        "    if (code == 'GC'):\n",
        "        regressor = Sequential()\n",
        "\n",
        "        regressor.add(GRU(units = 50, return_sequences = True, input_shape = (X_train.shape[1], 1)))\n",
        "        regressor.add(Dropout(0.2))\n",
        "\n",
        "        regressor.add(GRU(units = 50))\n",
        "        regressor.add(Dropout(0.2))\n",
        "\n",
        "        regressor.add(Dense(units = 1))\n",
        "\n",
        "        return regressor\n",
        "\n",
        "    else:\n",
        "        raise Exception(\"[CreateModel] Invalid argument\")"
      ],
      "execution_count": null,
      "outputs": []
    },
    {
      "cell_type": "code",
      "metadata": {
        "id": "n0LxXdRO8SWo"
      },
      "source": [
        "regressor = createModel(network_layers)"
      ],
      "execution_count": null,
      "outputs": []
    },
    {
      "cell_type": "code",
      "metadata": {
        "id": "K3WKtqy18rUn"
      },
      "source": [
        "regressor.compile(optimizer = optimizer_alg, loss = loss_alg)"
      ],
      "execution_count": null,
      "outputs": []
    },
    {
      "cell_type": "code",
      "metadata": {
        "colab": {
          "base_uri": "https://localhost:8080/"
        },
        "id": "NMacEztt8tQG",
        "outputId": "eb8f9aeb-6204-473d-e0a8-5dd22ff4e33e"
      },
      "source": [
        "regressor.summary()"
      ],
      "execution_count": null,
      "outputs": [
        {
          "output_type": "stream",
          "text": [
            "Model: \"sequential_4\"\n",
            "_________________________________________________________________\n",
            "Layer (type)                 Output Shape              Param #   \n",
            "=================================================================\n",
            "gru_8 (GRU)                  (None, 60, 50)            7950      \n",
            "_________________________________________________________________\n",
            "dropout_8 (Dropout)          (None, 60, 50)            0         \n",
            "_________________________________________________________________\n",
            "gru_9 (GRU)                  (None, 50)                15300     \n",
            "_________________________________________________________________\n",
            "dropout_9 (Dropout)          (None, 50)                0         \n",
            "_________________________________________________________________\n",
            "dense_4 (Dense)              (None, 1)                 51        \n",
            "=================================================================\n",
            "Total params: 23,301\n",
            "Trainable params: 23,301\n",
            "Non-trainable params: 0\n",
            "_________________________________________________________________\n"
          ],
          "name": "stdout"
        }
      ]
    },
    {
      "cell_type": "code",
      "metadata": {
        "id": "UwBElKgoDO_r"
      },
      "source": [
        "from time import time\n",
        "startTime = time()"
      ],
      "execution_count": null,
      "outputs": []
    },
    {
      "cell_type": "code",
      "metadata": {
        "colab": {
          "base_uri": "https://localhost:8080/"
        },
        "id": "D1WzQ8PR82n_",
        "outputId": "4b8a15b1-6c32-4521-fa7b-dd6fd2238a42"
      },
      "source": [
        "history = regressor.fit(X_train, y_train, epochs = epochs_to_train, batch_size = batch_size_of_train)"
      ],
      "execution_count": null,
      "outputs": [
        {
          "output_type": "stream",
          "text": [
            "Epoch 1/100\n",
            "100/100 [==============================] - 17s 101ms/step - loss: 0.1878\n",
            "Epoch 2/100\n",
            "100/100 [==============================] - 10s 100ms/step - loss: 0.0767\n",
            "Epoch 3/100\n",
            "100/100 [==============================] - 8s 81ms/step - loss: 0.0422\n",
            "Epoch 4/100\n",
            "100/100 [==============================] - 5s 54ms/step - loss: 0.0389\n",
            "Epoch 5/100\n",
            "100/100 [==============================] - 5s 54ms/step - loss: 0.0367\n",
            "Epoch 6/100\n",
            "100/100 [==============================] - 5s 53ms/step - loss: 0.0344\n",
            "Epoch 7/100\n",
            "100/100 [==============================] - 5s 52ms/step - loss: 0.0341\n",
            "Epoch 8/100\n",
            "100/100 [==============================] - 5s 53ms/step - loss: 0.0357\n",
            "Epoch 9/100\n",
            "100/100 [==============================] - 5s 53ms/step - loss: 0.0354\n",
            "Epoch 10/100\n",
            "100/100 [==============================] - 5s 54ms/step - loss: 0.0314\n",
            "Epoch 11/100\n",
            "100/100 [==============================] - 5s 54ms/step - loss: 0.0315\n",
            "Epoch 12/100\n",
            "100/100 [==============================] - 5s 55ms/step - loss: 0.0347\n",
            "Epoch 13/100\n",
            "100/100 [==============================] - 5s 55ms/step - loss: 0.0305\n",
            "Epoch 14/100\n",
            "100/100 [==============================] - 5s 55ms/step - loss: 0.0285\n",
            "Epoch 15/100\n",
            "100/100 [==============================] - 5s 54ms/step - loss: 0.0334\n",
            "Epoch 16/100\n",
            "100/100 [==============================] - 5s 54ms/step - loss: 0.0309\n",
            "Epoch 17/100\n",
            "100/100 [==============================] - 5s 54ms/step - loss: 0.0310\n",
            "Epoch 18/100\n",
            "100/100 [==============================] - 5s 54ms/step - loss: 0.0287\n",
            "Epoch 19/100\n",
            "100/100 [==============================] - 5s 54ms/step - loss: 0.0266\n",
            "Epoch 20/100\n",
            "100/100 [==============================] - 5s 53ms/step - loss: 0.0283\n",
            "Epoch 21/100\n",
            "100/100 [==============================] - 7s 71ms/step - loss: 0.0278\n",
            "Epoch 22/100\n",
            "100/100 [==============================] - 6s 57ms/step - loss: 0.0278\n",
            "Epoch 23/100\n",
            "100/100 [==============================] - 5s 54ms/step - loss: 0.0269\n",
            "Epoch 24/100\n",
            "100/100 [==============================] - 5s 54ms/step - loss: 0.0286\n",
            "Epoch 25/100\n",
            "100/100 [==============================] - 5s 54ms/step - loss: 0.0260\n",
            "Epoch 26/100\n",
            "100/100 [==============================] - 5s 52ms/step - loss: 0.0253\n",
            "Epoch 27/100\n",
            "100/100 [==============================] - 5s 54ms/step - loss: 0.0280\n",
            "Epoch 28/100\n",
            "100/100 [==============================] - 5s 54ms/step - loss: 0.0267\n",
            "Epoch 29/100\n",
            "100/100 [==============================] - 5s 54ms/step - loss: 0.0272\n",
            "Epoch 30/100\n",
            "100/100 [==============================] - 5s 54ms/step - loss: 0.0285\n",
            "Epoch 31/100\n",
            "100/100 [==============================] - 5s 53ms/step - loss: 0.0245\n",
            "Epoch 32/100\n",
            "100/100 [==============================] - 5s 54ms/step - loss: 0.0272\n",
            "Epoch 33/100\n",
            "100/100 [==============================] - 5s 54ms/step - loss: 0.0247\n",
            "Epoch 34/100\n",
            "100/100 [==============================] - 5s 54ms/step - loss: 0.0275\n",
            "Epoch 35/100\n",
            "100/100 [==============================] - 5s 54ms/step - loss: 0.0259\n",
            "Epoch 36/100\n",
            "100/100 [==============================] - 5s 53ms/step - loss: 0.0248\n",
            "Epoch 37/100\n",
            "100/100 [==============================] - 5s 53ms/step - loss: 0.0261\n",
            "Epoch 38/100\n",
            "100/100 [==============================] - 5s 54ms/step - loss: 0.0255\n",
            "Epoch 39/100\n",
            "100/100 [==============================] - 5s 54ms/step - loss: 0.0264\n",
            "Epoch 40/100\n",
            "100/100 [==============================] - 5s 54ms/step - loss: 0.0246\n",
            "Epoch 41/100\n",
            "100/100 [==============================] - 5s 53ms/step - loss: 0.0245\n",
            "Epoch 42/100\n",
            "100/100 [==============================] - 5s 54ms/step - loss: 0.0252\n",
            "Epoch 43/100\n",
            "100/100 [==============================] - 6s 55ms/step - loss: 0.0233\n",
            "Epoch 44/100\n",
            "100/100 [==============================] - 5s 54ms/step - loss: 0.0237\n",
            "Epoch 45/100\n",
            "100/100 [==============================] - 5s 54ms/step - loss: 0.0234\n",
            "Epoch 46/100\n",
            "100/100 [==============================] - 5s 54ms/step - loss: 0.0246\n",
            "Epoch 47/100\n",
            "100/100 [==============================] - 5s 54ms/step - loss: 0.0235\n",
            "Epoch 48/100\n",
            "100/100 [==============================] - 5s 55ms/step - loss: 0.0233\n",
            "Epoch 49/100\n",
            "100/100 [==============================] - 5s 54ms/step - loss: 0.0243\n",
            "Epoch 50/100\n",
            "100/100 [==============================] - 5s 54ms/step - loss: 0.0248\n",
            "Epoch 51/100\n",
            "100/100 [==============================] - 5s 54ms/step - loss: 0.0229\n",
            "Epoch 52/100\n",
            "100/100 [==============================] - 5s 55ms/step - loss: 0.0224\n",
            "Epoch 53/100\n",
            "100/100 [==============================] - 5s 54ms/step - loss: 0.0240\n",
            "Epoch 54/100\n",
            "100/100 [==============================] - 6s 55ms/step - loss: 0.0244\n",
            "Epoch 55/100\n",
            "100/100 [==============================] - 6s 55ms/step - loss: 0.0247\n",
            "Epoch 56/100\n",
            "100/100 [==============================] - 5s 55ms/step - loss: 0.0226\n",
            "Epoch 57/100\n",
            "100/100 [==============================] - 5s 54ms/step - loss: 0.0230\n",
            "Epoch 58/100\n",
            "100/100 [==============================] - 5s 55ms/step - loss: 0.0218\n",
            "Epoch 59/100\n",
            "100/100 [==============================] - 5s 54ms/step - loss: 0.0231\n",
            "Epoch 60/100\n",
            "100/100 [==============================] - 5s 54ms/step - loss: 0.0227\n",
            "Epoch 61/100\n",
            "100/100 [==============================] - 5s 52ms/step - loss: 0.0241\n",
            "Epoch 62/100\n",
            "100/100 [==============================] - 5s 54ms/step - loss: 0.0237\n",
            "Epoch 63/100\n",
            "100/100 [==============================] - 5s 53ms/step - loss: 0.0238\n",
            "Epoch 64/100\n",
            "100/100 [==============================] - 5s 53ms/step - loss: 0.0239\n",
            "Epoch 65/100\n",
            "100/100 [==============================] - 6s 55ms/step - loss: 0.0232\n",
            "Epoch 66/100\n",
            "100/100 [==============================] - 5s 54ms/step - loss: 0.0237\n",
            "Epoch 67/100\n",
            "100/100 [==============================] - 5s 54ms/step - loss: 0.0245\n",
            "Epoch 68/100\n",
            "100/100 [==============================] - 5s 54ms/step - loss: 0.0230\n",
            "Epoch 69/100\n",
            "100/100 [==============================] - 5s 54ms/step - loss: 0.0225\n",
            "Epoch 70/100\n",
            "100/100 [==============================] - 5s 53ms/step - loss: 0.0224\n",
            "Epoch 71/100\n",
            "100/100 [==============================] - 5s 54ms/step - loss: 0.0225\n",
            "Epoch 72/100\n",
            "100/100 [==============================] - 6s 55ms/step - loss: 0.0228\n",
            "Epoch 73/100\n",
            "100/100 [==============================] - 5s 55ms/step - loss: 0.0217\n",
            "Epoch 74/100\n",
            "100/100 [==============================] - 5s 55ms/step - loss: 0.0234\n",
            "Epoch 75/100\n",
            "100/100 [==============================] - 5s 55ms/step - loss: 0.0206\n",
            "Epoch 76/100\n",
            "100/100 [==============================] - 5s 55ms/step - loss: 0.0236\n",
            "Epoch 77/100\n",
            "100/100 [==============================] - 6s 55ms/step - loss: 0.0217\n",
            "Epoch 78/100\n",
            "100/100 [==============================] - 5s 55ms/step - loss: 0.0226\n",
            "Epoch 79/100\n",
            "100/100 [==============================] - 6s 55ms/step - loss: 0.0233\n",
            "Epoch 80/100\n",
            "100/100 [==============================] - 5s 55ms/step - loss: 0.0228\n",
            "Epoch 81/100\n",
            "100/100 [==============================] - 6s 55ms/step - loss: 0.0222\n",
            "Epoch 82/100\n",
            "100/100 [==============================] - 6s 56ms/step - loss: 0.0228\n",
            "Epoch 83/100\n",
            "100/100 [==============================] - 6s 56ms/step - loss: 0.0229\n",
            "Epoch 84/100\n",
            "100/100 [==============================] - 6s 56ms/step - loss: 0.0222\n",
            "Epoch 85/100\n",
            "100/100 [==============================] - 6s 55ms/step - loss: 0.0222\n",
            "Epoch 86/100\n",
            "100/100 [==============================] - 5s 54ms/step - loss: 0.0235\n",
            "Epoch 87/100\n",
            "100/100 [==============================] - 6s 56ms/step - loss: 0.0219\n",
            "Epoch 88/100\n",
            "100/100 [==============================] - 5s 55ms/step - loss: 0.0217\n",
            "Epoch 89/100\n",
            "100/100 [==============================] - 5s 55ms/step - loss: 0.0220\n",
            "Epoch 90/100\n",
            "100/100 [==============================] - 5s 55ms/step - loss: 0.0226\n",
            "Epoch 91/100\n",
            "100/100 [==============================] - 5s 55ms/step - loss: 0.0221\n",
            "Epoch 92/100\n",
            "100/100 [==============================] - 5s 54ms/step - loss: 0.0214\n",
            "Epoch 93/100\n",
            "100/100 [==============================] - 5s 54ms/step - loss: 0.0236\n",
            "Epoch 94/100\n",
            "100/100 [==============================] - 6s 55ms/step - loss: 0.0221\n",
            "Epoch 95/100\n",
            "100/100 [==============================] - 6s 55ms/step - loss: 0.0213\n",
            "Epoch 96/100\n",
            "100/100 [==============================] - 5s 54ms/step - loss: 0.0228\n",
            "Epoch 97/100\n",
            "100/100 [==============================] - 5s 54ms/step - loss: 0.0211\n",
            "Epoch 98/100\n",
            "100/100 [==============================] - 6s 55ms/step - loss: 0.0225\n",
            "Epoch 99/100\n",
            "100/100 [==============================] - 5s 54ms/step - loss: 0.0212\n",
            "Epoch 100/100\n",
            "100/100 [==============================] - 5s 54ms/step - loss: 0.0215\n"
          ],
          "name": "stdout"
        }
      ]
    },
    {
      "cell_type": "code",
      "metadata": {
        "colab": {
          "base_uri": "https://localhost:8080/"
        },
        "id": "WI5Vp_B1DRY7",
        "outputId": "f76a0a49-965e-4f25-9ea2-8aad544fe25b"
      },
      "source": [
        "trainingTimeInSeconds = time() - startTime\n",
        "trainingTimeInSeconds"
      ],
      "execution_count": null,
      "outputs": [
        {
          "output_type": "execute_result",
          "data": {
            "text/plain": [
              "563.6356246471405"
            ]
          },
          "metadata": {
            "tags": []
          },
          "execution_count": 143
        }
      ]
    },
    {
      "cell_type": "code",
      "metadata": {
        "colab": {
          "base_uri": "https://localhost:8080/",
          "height": 863
        },
        "id": "pSlh9PzjDX2q",
        "outputId": "15234681-9ca6-41a1-fa98-49eb8ecc0016"
      },
      "source": [
        "plt.plot(history.history[\"loss\"], label = \"Training Loss\")\n",
        "plt.legend()\n",
        "plt.show()"
      ],
      "execution_count": null,
      "outputs": [
        {
          "output_type": "display_data",
          "data": {
            "image/png": "[encoded data removed]",
            "text/plain": [
              "<Figure size 1800x1080 with 1 Axes>"
            ]
          },
          "metadata": {
            "tags": [],
            "needs_background": "light"
          }
        }
      ]
    },
    {
      "cell_type": "code",
      "metadata": {
        "colab": {
          "base_uri": "https://localhost:8080/"
        },
        "id": "t8JKfKq3Dblr",
        "outputId": "377ee067-ef03-4610-ce31-c98707bae522"
      },
      "source": [
        "last_loss = history.history[\"loss\"][-1]\n",
        "last_loss"
      ],
      "execution_count": null,
      "outputs": [
        {
          "output_type": "execute_result",
          "data": {
            "text/plain": [
              "0.021528111770749092"
            ]
          },
          "metadata": {
            "tags": []
          },
          "execution_count": 145
        }
      ]
    },
    {
      "cell_type": "code",
      "metadata": {
        "id": "DSoNMKqQ_NnN"
      },
      "source": [
        "#getting test data\n",
        "\n",
        "downloaded = drive.CreateFile({'id': test_file_id})\n",
        "downloaded.GetContentFile(test_file_name)"
      ],
      "execution_count": null,
      "outputs": []
    },
    {
      "cell_type": "code",
      "metadata": {
        "id": "1SsxQ2S3_uk3"
      },
      "source": [
        "dataset_test = pd.read_csv(test_file_name)\n",
        "real_stock_price = dataset_test.iloc[:, 1:2].values"
      ],
      "execution_count": null,
      "outputs": []
    },
    {
      "cell_type": "code",
      "metadata": {
        "colab": {
          "base_uri": "https://localhost:8080/"
        },
        "id": "2MK0X_eSRm_4",
        "outputId": "e9f4bd2c-cc10-41a1-93bc-ff307b24e5c5"
      },
      "source": [
        "dataset_test.shape"
      ],
      "execution_count": null,
      "outputs": [
        {
          "output_type": "execute_result",
          "data": {
            "text/plain": [
              "(890, 6)"
            ]
          },
          "metadata": {
            "tags": []
          },
          "execution_count": 148
        }
      ]
    },
    {
      "cell_type": "code",
      "metadata": {
        "colab": {
          "base_uri": "https://localhost:8080/",
          "height": 204
        },
        "id": "NYe7b15JR9WX",
        "outputId": "568cddb8-452e-4419-9c6f-a2e0fa989b93"
      },
      "source": [
        "dataset_test.head()"
      ],
      "execution_count": null,
      "outputs": [
        {
          "output_type": "execute_result",
          "data": {
            "text/html": [
              "<div>\n",
              "<style scoped>\n",
              "    .dataframe tbody tr th:only-of-type {\n",
              "        vertical-align: middle;\n",
              "    }\n",
              "\n",
              "    .dataframe tbody tr th {\n",
              "        vertical-align: top;\n",
              "    }\n",
              "\n",
              "    .dataframe thead th {\n",
              "        text-align: right;\n",
              "    }\n",
              "</style>\n",
              "<table border=\"1\" class=\"dataframe\">\n",
              "  <thead>\n",
              "    <tr style=\"text-align: right;\">\n",
              "      <th></th>\n",
              "      <th>timestamp</th>\n",
              "      <th>open</th>\n",
              "      <th>high</th>\n",
              "      <th>low</th>\n",
              "      <th>close</th>\n",
              "      <th>volume</th>\n",
              "    </tr>\n",
              "  </thead>\n",
              "  <tbody>\n",
              "    <tr>\n",
              "      <th>0</th>\n",
              "      <td>2019-01-02</td>\n",
              "      <td>99.55</td>\n",
              "      <td>101.75</td>\n",
              "      <td>98.94</td>\n",
              "      <td>101.12</td>\n",
              "      <td>35329345</td>\n",
              "    </tr>\n",
              "    <tr>\n",
              "      <th>1</th>\n",
              "      <td>2018-12-31</td>\n",
              "      <td>101.29</td>\n",
              "      <td>102.40</td>\n",
              "      <td>100.44</td>\n",
              "      <td>101.57</td>\n",
              "      <td>33173765</td>\n",
              "    </tr>\n",
              "    <tr>\n",
              "      <th>2</th>\n",
              "      <td>2018-12-28</td>\n",
              "      <td>102.09</td>\n",
              "      <td>102.41</td>\n",
              "      <td>99.52</td>\n",
              "      <td>100.39</td>\n",
              "      <td>38169312</td>\n",
              "    </tr>\n",
              "    <tr>\n",
              "      <th>3</th>\n",
              "      <td>2018-12-27</td>\n",
              "      <td>99.30</td>\n",
              "      <td>101.19</td>\n",
              "      <td>96.40</td>\n",
              "      <td>101.18</td>\n",
              "      <td>49498509</td>\n",
              "    </tr>\n",
              "    <tr>\n",
              "      <th>4</th>\n",
              "      <td>2018-12-26</td>\n",
              "      <td>95.14</td>\n",
              "      <td>100.69</td>\n",
              "      <td>93.96</td>\n",
              "      <td>100.56</td>\n",
              "      <td>51634793</td>\n",
              "    </tr>\n",
              "  </tbody>\n",
              "</table>\n",
              "</div>"
            ],
            "text/plain": [
              "    timestamp    open    high     low   close    volume\n",
              "0  2019-01-02   99.55  101.75   98.94  101.12  35329345\n",
              "1  2018-12-31  101.29  102.40  100.44  101.57  33173765\n",
              "2  2018-12-28  102.09  102.41   99.52  100.39  38169312\n",
              "3  2018-12-27   99.30  101.19   96.40  101.18  49498509\n",
              "4  2018-12-26   95.14  100.69   93.96  100.56  51634793"
            ]
          },
          "metadata": {
            "tags": []
          },
          "execution_count": 149
        }
      ]
    },
    {
      "cell_type": "code",
      "metadata": {
        "id": "RjI5p8cSN4oB"
      },
      "source": [
        "test_dataset_lines_count = dataset_test.shape[0]"
      ],
      "execution_count": null,
      "outputs": []
    },
    {
      "cell_type": "code",
      "metadata": {
        "id": "3I08xqYc_yOr"
      },
      "source": [
        "dataset_total = pd.concat((dataset_train['open'], dataset_test['open']), axis = 0)\n",
        "inputs = dataset_total[len(dataset_total) - len(dataset_test) - days_to_look_back:].values\n",
        "inputs = inputs.reshape(-1,1)\n",
        "inputs = sc.transform(inputs)\n",
        "X_test = []\n",
        "for i in range(days_to_look_back, test_dataset_lines_count + days_to_look_back): # 1909 is dataset_test x shape + 60, this 60 is days to look back\n",
        "    X_test.append(inputs[i-days_to_look_back:i, 0])\n",
        "X_test = np.array(X_test)\n",
        "X_test = np.reshape(X_test, (X_test.shape[0], X_test.shape[1], 1))\n",
        "predicted_stock_price = regressor.predict(X_test)\n",
        "predicted_stock_price = sc.inverse_transform(predicted_stock_price)"
      ],
      "execution_count": null,
      "outputs": []
    },
    {
      "cell_type": "code",
      "metadata": {
        "colab": {
          "base_uri": "https://localhost:8080/"
        },
        "id": "VlVghgPbPYXn",
        "outputId": "a29791bd-d07d-4680-ce5b-7b05a16f9493"
      },
      "source": [
        "# Calculate RMSE performance metrics\n",
        "import math\n",
        "from sklearn.metrics import mean_squared_error\n",
        "test_loss = math.sqrt(mean_squared_error(real_stock_price, predicted_stock_price))\n",
        "test_loss"
      ],
      "execution_count": null,
      "outputs": [
        {
          "output_type": "execute_result",
          "data": {
            "text/plain": [
              "5.293485058499481"
            ]
          },
          "metadata": {
            "tags": []
          },
          "execution_count": 152
        }
      ]
    },
    {
      "cell_type": "code",
      "metadata": {
        "id": "JeiHneZ6Wrtv"
      },
      "source": [
        "plt.rcParams['figure.figsize'] = (25,15)"
      ],
      "execution_count": null,
      "outputs": []
    },
    {
      "cell_type": "code",
      "metadata": {
        "colab": {
          "base_uri": "https://localhost:8080/",
          "height": 893
        },
        "id": "2YJ9dxtCRUZw",
        "outputId": "78706a53-3ffe-46d2-b1bc-7d037e8888d2"
      },
      "source": [
        "plt.plot(real_stock_price, color = 'black', label = 'MSFT Stock Price')\n",
        "plt.plot(predicted_stock_price, color = 'orange', label = 'Predicted MSFT Stock Price', linestyle = 'solid')\n",
        "plt.title('MSFT Stock Price Prediction')\n",
        "plt.xlabel('Time')\n",
        "plt.ylabel('MSFT Stock Price')\n",
        "plt.legend()\n",
        "plt.show()"
      ],
      "execution_count": null,
      "outputs": [
        {
          "output_type": "display_data",
          "data": {
            "image/png": "[encoded data removed]",
            "text/plain": [
              "<Figure size 1800x1080 with 1 Axes>"
            ]
          },
          "metadata": {
            "tags": [],
            "needs_background": "light"
          }
        }
      ]
    },
    {
      "cell_type": "code",
      "metadata": {
        "colab": {
          "base_uri": "https://localhost:8080/",
          "height": 35
        },
        "id": "tD6xzuQUDsQ7",
        "outputId": "2313bc70-3e04-455d-ca2c-be09e6b9de1c"
      },
      "source": [
        "\"time: \" + str(trainingTimeInSeconds).replace(\".\", \",\") + \" |  test_loss: \" + str(test_loss).replace(\".\", \",\") + \" | training_loss: \" + str(last_loss).replace(\".\", \",\")"
      ],
      "execution_count": null,
      "outputs": [
        {
          "output_type": "execute_result",
          "data": {
            "application/vnd.google.colaboratory.intrinsic+json": {
              "type": "string"
            },
            "text/plain": [
              "'time: 563,6356246471405 |  test_loss: 5,293485058499481 | training_loss: 0,021528111770749092'"
            ]
          },
          "metadata": {
            "tags": []
          },
          "execution_count": 155
        }
      ]
    }
  ]
}