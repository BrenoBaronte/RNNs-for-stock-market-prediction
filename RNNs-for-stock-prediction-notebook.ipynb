{
  "nbformat": 4,
  "nbformat_minor": 0,
  "metadata": {
    "colab": {
      "name": "Rede Neural TCC - Generic.ipynb",
      "provenance": [],
      "collapsed_sections": [],
      "authorship_tag": "ABX9TyOII2y84wgQ2JYqZ2K0clCY",
      "include_colab_link": true
    },
    "kernelspec": {
      "display_name": "Python 3",
      "name": "python3"
    }
  },
  "cells": [
    {
      "cell_type": "markdown",
      "metadata": {
        "id": "view-in-github",
        "colab_type": "text"
      },
      "source": [
        "<a href=\"https://colab.research.google.com/github/BrenoBaronte/RNNs-for-stock-market-prediction/blob/master/RNNs-for-stock-prediction-notebook.ipynb\" target=\"_parent\"><img src=\"https://colab.research.google.com/assets/colab-badge.svg\" alt=\"Open In Colab\"/></a>"
      ]
    },
    {
      "cell_type": "code",
      "metadata": {
        "id": "hJguomNpBfBj"
      },
      "source": [
        "# Sample of label\n",
        "label = \"H60SMAEC16GC\""
      ],
      "execution_count": null,
      "outputs": []
    },
    {
      "cell_type": "code",
      "metadata": {
        "id": "lyc0Sx0pOMHL"
      },
      "source": [
        "# Setting up the files to be used\n",
        "training_file_name = \"\"\n",
        "training_file_id = \"\"\n",
        "test_file_name = \"\"\n",
        "test_file_id = \"\"\n",
        "\n",
        "labelInitial = label[0:1]\n",
        "\n",
        "if (labelInitial == 'H'):\n",
        "  training_file_name = \"dataset_daily_msft_half_training.csv\"\n",
        "  training_file_id = \"1Z5uVzXZlomQ5Z-_q-X60upKSUpm724K7\"\n",
        "  test_file_name = \"dataset_daily_msft_half_test.csv\"\n",
        "  test_file_id = \"15iacoJgstQA0JR0awd0qnhguEu0Lc9zE\"\n",
        "\n",
        "elif (labelInitial == 'T'):\n",
        "  training_file_name = \"dataset_daily_msft_training.csv\"\n",
        "  training_file_id = \"12bWmhsQoeAOk2JLCOzlRsk0IMQaKD6s2\"\n",
        "  test_file_name = \"dataset_daily_msft_test.csv\"\n",
        "  test_file_id = \"10oiV6jvHGtiXgDDJmMByxBhiyYKjaQCw\"\n",
        "\n",
        "else:\n",
        "  raise Exception(\"[labelInitial] Invalid argument.\")\n",
        "\n",
        "print(training_file_name)\n",
        "print(training_file_id)\n",
        "print(test_file_name)\n",
        "print(test_file_id)"
      ],
      "execution_count": null,
      "outputs": []
    },
    {
      "cell_type": "code",
      "metadata": {
        "id": "Wz4H3_Ig1nWv"
      },
      "source": [
        "# Step 0 - importing the dataset file\n",
        "!pip install pydrive\n",
        "from pydrive.auth import GoogleAuth\n",
        "from pydrive.drive import GoogleDrive\n",
        "from google.colab import auth\n",
        "from oauth2client.client import GoogleCredentials\n",
        "\n",
        "auth.authenticate_user()\n",
        "gauth = GoogleAuth()\n",
        "gauth.credentials = GoogleCredentials.get_application_default()\n",
        "drive = GoogleDrive(gauth)\n",
        "\n",
        "downloaded = drive.CreateFile({'id': training_file_id})\n",
        "downloaded.GetContentFile(training_file_name)"
      ],
      "execution_count": null,
      "outputs": []
    },
    {
      "cell_type": "code",
      "metadata": {
        "id": "_dqU5HuyC1Fl"
      },
      "source": [
        "# Decode label for entire dataset - T initial\n",
        "\n",
        "try:\n",
        "    def labelHasCorrectLength(label):\n",
        "        if (len(label) == 12):\n",
        "            return True\n",
        "        else:\n",
        "            return False\n",
        "\n",
        "    def labelHasCorrectInitial(code):\n",
        "        if (code == 'H' or code == 'T'):\n",
        "            return True\n",
        "        else:\n",
        "            return False        \n",
        "\n",
        "    def getDaysToLookBack(code):\n",
        "        if (code == '30'):\n",
        "            return 30\n",
        "        if (code == '60'):\n",
        "            return 60\n",
        "        else:\n",
        "            raise Exception(\"[GetDaysToLookBack] Invalid argument.\")\n",
        "\n",
        "    def getOptimizerAlgorithm(code):\n",
        "        if (code == 'A' or code == 'a'):\n",
        "            return 'adam'\n",
        "        if (code == 'S' or code == 's'):\n",
        "            return 'SGD'\n",
        "        else:\n",
        "            raise Exception(\"[GetOptimizerAlgorithm] Invalid argument.\")\n",
        "\n",
        "    def getLossAlgorithm(code):\n",
        "        if (code == 'MSE' or code == 'mse'):\n",
        "            return 'mean_squared_error'\n",
        "        if (code == 'MAE' or code == 'mae'):\n",
        "            return 'mean_absolute_error'\n",
        "        else:\n",
        "            raise Exception(\"[GetLossAlgorithm] Invalid argument.\")\n",
        "\n",
        "    def getEpochs(code):\n",
        "        if (code == 'L' or code == 'l'):\n",
        "            return 50\n",
        "        if (code == 'C' or code == 'c'):\n",
        "            return 100\n",
        "        else:\n",
        "            raise Exception(\"[GetEpochs] Invalid argument.\")\n",
        "\n",
        "    def getBatchSize(code):\n",
        "        if (code == '16' or code == '32' or code == '64'):\n",
        "            return code\n",
        "        else:\n",
        "            raise Exception(\"[GetBatchSize] Invalid argument.\")\n",
        "\n",
        "    def getLayers(code):\n",
        "        if (code == '5C' or \n",
        "            code == '6C' or \n",
        "            code == '9C' or \n",
        "            code == 'XC' or \n",
        "            code == 'GC'):\n",
        "            return code\n",
        "        else:\n",
        "            raise Exception(\"[GetLayers] Invalid argument.\")\n",
        "\n",
        "    if (labelHasCorrectLength(label) == False):\n",
        "        raise Exception(\"[Label length] Invalid argument.\")\n",
        "    \n",
        "    if (labelHasCorrectInitial(label[0:1]) == False):\n",
        "        raise Exception(\"[Label initial] Invalid argument.\")\n",
        "    \n",
        "    days_to_look_back = int(getDaysToLookBack(label[1:3]))\n",
        "    optimizer_alg = getOptimizerAlgorithm(label[3:4])\n",
        "    loss_alg = getLossAlgorithm(label[4:7])\n",
        "    epochs_to_train = int(getEpochs(label[7:8]))\n",
        "    batch_size_of_train = int(getBatchSize(label[8:10]))\n",
        "    network_layers = getLayers(label[10:12])\n",
        "\n",
        "    print(\"d t l b: \", days_to_look_back)\n",
        "    print(\"o alg: \", optimizer_alg)\n",
        "    print(\"l alg: \", loss_alg)\n",
        "    print(\"e: \", epochs_to_train)\n",
        "    print(\"b s o t: \", batch_size_of_train)\n",
        "    print(\"n l: \", network_layers)\n",
        "    \n",
        "except e:\n",
        "    print(e)"
      ],
      "execution_count": null,
      "outputs": []
    },
    {
      "cell_type": "code",
      "metadata": {
        "id": "C0p16Q1J7ZXy"
      },
      "source": [
        "import numpy as np\n",
        "import matplotlib.pyplot as plt\n",
        "import pandas as pd"
      ],
      "execution_count": null,
      "outputs": []
    },
    {
      "cell_type": "code",
      "metadata": {
        "id": "rn6CKtdL7iZm"
      },
      "source": [
        "dataset_train = pd.read_csv(training_file_name)\n",
        "training_set = dataset_train.iloc[:, 1:2].values"
      ],
      "execution_count": null,
      "outputs": []
    },
    {
      "cell_type": "code",
      "metadata": {
        "id": "C2CbdGMj7mC5"
      },
      "source": [
        "dataset_train.head()"
      ],
      "execution_count": null,
      "outputs": []
    },
    {
      "cell_type": "code",
      "metadata": {
        "id": "GiDLKVeF73kJ"
      },
      "source": [
        "from sklearn.preprocessing import MinMaxScaler\n",
        "sc = MinMaxScaler(feature_range = (0, 1))\n",
        "training_set_scaled = sc.fit_transform(training_set)"
      ],
      "execution_count": null,
      "outputs": []
    },
    {
      "cell_type": "code",
      "metadata": {
        "id": "SGDT9KQbMGSL"
      },
      "source": [
        "training_set_scaled.shape"
      ],
      "execution_count": null,
      "outputs": []
    },
    {
      "cell_type": "code",
      "metadata": {
        "id": "fnRioeipLO6o"
      },
      "source": [
        "training_dataset_lines_count = training_set_scaled.shape[0]"
      ],
      "execution_count": null,
      "outputs": []
    },
    {
      "cell_type": "code",
      "metadata": {
        "id": "W5a39bS87_Cx"
      },
      "source": [
        "X_train = []\n",
        "y_train = []\n",
        "for i in range(days_to_look_back, training_dataset_lines_count):\n",
        "    X_train.append(training_set_scaled[i-days_to_look_back:i, 0])\n",
        "    y_train.append(training_set_scaled[i, 0])\n",
        "X_train, y_train = np.array(X_train), np.array(y_train)\n",
        "\n",
        "X_train = np.reshape(X_train, (X_train.shape[0], X_train.shape[1], 1))"
      ],
      "execution_count": null,
      "outputs": []
    },
    {
      "cell_type": "code",
      "metadata": {
        "id": "Tny3cPG98HQu"
      },
      "source": [
        "from keras.models import Sequential\n",
        "from keras.layers import Dense\n",
        "from keras.layers import LSTM\n",
        "from keras.layers import Dropout\n",
        "from keras.layers import GRU"
      ],
      "execution_count": null,
      "outputs": []
    },
    {
      "cell_type": "code",
      "metadata": {
        "id": "qECLlhCqFTkL"
      },
      "source": [
        "def createModel(code):\n",
        "    if (code == '5C'):\n",
        "        regressor = Sequential()\n",
        "\n",
        "        regressor.add(LSTM(units = 50, return_sequences = True, input_shape = (X_train.shape[1], 1)))\n",
        "        regressor.add(Dropout(0.2))\n",
        "\n",
        "        regressor.add(LSTM(units = 50))\n",
        "        regressor.add(Dropout(0.2))\n",
        "\n",
        "        regressor.add(Dense(units = 1))\n",
        "\n",
        "        return regressor\n",
        "\n",
        "    if (code == '6C'):\n",
        "        regressor = Sequential()\n",
        "\n",
        "        regressor.add(LSTM(units = 50, return_sequences = True, input_shape = (X_train.shape[1], 1)))\n",
        "        regressor.add(Dropout(0.2))\n",
        "\n",
        "        regressor.add(LSTM(units = 50))\n",
        "        regressor.add(Dropout(0.2))\n",
        "\n",
        "        regressor.add(Dense(units = 25))\n",
        "        regressor.add(Dense(units = 1))\n",
        "\n",
        "        return regressor\n",
        "\n",
        "    if (code == '9C'):\n",
        "        regressor = Sequential()\n",
        "\n",
        "        regressor.add(LSTM(units = 50, return_sequences = True, input_shape = (X_train.shape[1], 1)))\n",
        "        regressor.add(Dropout(0.2))\n",
        "\n",
        "        regressor.add(LSTM(units = 50, return_sequences = True, input_shape = (X_train.shape[1], 1)))\n",
        "        regressor.add(Dropout(0.2))\n",
        "\n",
        "        regressor.add(LSTM(units = 50, return_sequences = True, input_shape = (X_train.shape[1], 1)))\n",
        "        regressor.add(Dropout(0.2))\n",
        "\n",
        "        regressor.add(LSTM(units = 50))\n",
        "        regressor.add(Dropout(0.2))\n",
        "\n",
        "        regressor.add(Dense(units = 1))\n",
        "\n",
        "        return regressor\n",
        "\n",
        "    if (code == 'XC'):\n",
        "        regressor = Sequential()\n",
        "\n",
        "        regressor.add(LSTM(units = 50, return_sequences = True, input_shape = (X_train.shape[1], 1)))\n",
        "        regressor.add(Dropout(0.2))\n",
        "\n",
        "        regressor.add(LSTM(units = 50, return_sequences = True, input_shape = (X_train.shape[1], 1)))\n",
        "        regressor.add(Dropout(0.2))\n",
        "\n",
        "        regressor.add(LSTM(units = 50, return_sequences = True, input_shape = (X_train.shape[1], 1)))\n",
        "        regressor.add(Dropout(0.2))\n",
        "\n",
        "        regressor.add(LSTM(units = 50))\n",
        "        regressor.add(Dropout(0.2))\n",
        "\n",
        "        regressor.add(Dense(units = 25))\n",
        "        regressor.add(Dense(units = 1))\n",
        "\n",
        "        return regressor\n",
        "\n",
        "    if (code == 'GC'):\n",
        "        regressor = Sequential()\n",
        "\n",
        "        regressor.add(GRU(units = 50, return_sequences = True, input_shape = (X_train.shape[1], 1)))\n",
        "        regressor.add(Dropout(0.2))\n",
        "\n",
        "        regressor.add(GRU(units = 50))\n",
        "        regressor.add(Dropout(0.2))\n",
        "\n",
        "        regressor.add(Dense(units = 1))\n",
        "\n",
        "        return regressor\n",
        "\n",
        "    else:\n",
        "        raise Exception(\"[CreateModel] Invalid argument\")"
      ],
      "execution_count": null,
      "outputs": []
    },
    {
      "cell_type": "code",
      "metadata": {
        "id": "n0LxXdRO8SWo"
      },
      "source": [
        "regressor = createModel(network_layers)"
      ],
      "execution_count": null,
      "outputs": []
    },
    {
      "cell_type": "code",
      "metadata": {
        "id": "K3WKtqy18rUn"
      },
      "source": [
        "regressor.compile(optimizer = optimizer_alg, loss = loss_alg)"
      ],
      "execution_count": null,
      "outputs": []
    },
    {
      "cell_type": "code",
      "metadata": {
        "id": "NMacEztt8tQG"
      },
      "source": [
        "regressor.summary()"
      ],
      "execution_count": null,
      "outputs": []
    },
    {
      "cell_type": "code",
      "metadata": {
        "id": "UwBElKgoDO_r"
      },
      "source": [
        "from time import time\n",
        "startTime = time()"
      ],
      "execution_count": null,
      "outputs": []
    },
    {
      "cell_type": "code",
      "metadata": {
        "id": "D1WzQ8PR82n_"
      },
      "source": [
        "history = regressor.fit(X_train, y_train, epochs = epochs_to_train, batch_size = batch_size_of_train)"
      ],
      "execution_count": null,
      "outputs": []
    },
    {
      "cell_type": "code",
      "metadata": {
        "id": "WI5Vp_B1DRY7"
      },
      "source": [
        "trainingTimeInSeconds = time() - startTime\n",
        "trainingTimeInSeconds"
      ],
      "execution_count": null,
      "outputs": []
    },
    {
      "cell_type": "code",
      "metadata": {
        "id": "pSlh9PzjDX2q"
      },
      "source": [
        "plt.plot(history.history[\"loss\"], label = \"Training Loss\")\n",
        "plt.legend()\n",
        "plt.show()"
      ],
      "execution_count": null,
      "outputs": []
    },
    {
      "cell_type": "code",
      "metadata": {
        "id": "t8JKfKq3Dblr"
      },
      "source": [
        "last_loss = history.history[\"loss\"][-1]\n",
        "last_loss"
      ],
      "execution_count": null,
      "outputs": []
    },
    {
      "cell_type": "code",
      "metadata": {
        "id": "DSoNMKqQ_NnN"
      },
      "source": [
        "#getting test data\n",
        "\n",
        "downloaded = drive.CreateFile({'id': test_file_id})\n",
        "downloaded.GetContentFile(test_file_name)"
      ],
      "execution_count": null,
      "outputs": []
    },
    {
      "cell_type": "code",
      "metadata": {
        "id": "1SsxQ2S3_uk3"
      },
      "source": [
        "dataset_test = pd.read_csv(test_file_name)\n",
        "real_stock_price = dataset_test.iloc[:, 1:2].values"
      ],
      "execution_count": null,
      "outputs": []
    },
    {
      "cell_type": "code",
      "metadata": {
        "id": "2MK0X_eSRm_4"
      },
      "source": [
        "dataset_test.shape"
      ],
      "execution_count": null,
      "outputs": []
    },
    {
      "cell_type": "code",
      "metadata": {
        "id": "NYe7b15JR9WX"
      },
      "source": [
        "dataset_test.head()"
      ],
      "execution_count": null,
      "outputs": []
    },
    {
      "cell_type": "code",
      "metadata": {
        "id": "RjI5p8cSN4oB"
      },
      "source": [
        "test_dataset_lines_count = dataset_test.shape[0]"
      ],
      "execution_count": null,
      "outputs": []
    },
    {
      "cell_type": "code",
      "metadata": {
        "id": "3I08xqYc_yOr"
      },
      "source": [
        "dataset_total = pd.concat((dataset_train['open'], dataset_test['open']), axis = 0)\n",
        "inputs = dataset_total[len(dataset_total) - len(dataset_test) - days_to_look_back:].values\n",
        "inputs = inputs.reshape(-1,1)\n",
        "inputs = sc.transform(inputs)\n",
        "X_test = []\n",
        "for i in range(days_to_look_back, test_dataset_lines_count + days_to_look_back): # 1909 is dataset_test x shape + 60, this 60 is days to look back\n",
        "    X_test.append(inputs[i-days_to_look_back:i, 0])\n",
        "X_test = np.array(X_test)\n",
        "X_test = np.reshape(X_test, (X_test.shape[0], X_test.shape[1], 1))\n",
        "predicted_stock_price = regressor.predict(X_test)\n",
        "predicted_stock_price = sc.inverse_transform(predicted_stock_price)"
      ],
      "execution_count": null,
      "outputs": []
    },
    {
      "cell_type": "code",
      "metadata": {
        "id": "VlVghgPbPYXn"
      },
      "source": [
        "# Calculate performance metrics\n",
        "import math\n",
        "from sklearn.metrics import mean_squared_error\n",
        "test_loss = math.sqrt(mean_squared_error(real_stock_price, predicted_stock_price))\n",
        "test_loss"
      ],
      "execution_count": null,
      "outputs": []
    },
    {
      "cell_type": "code",
      "metadata": {
        "id": "JeiHneZ6Wrtv"
      },
      "source": [
        "plt.rcParams['figure.figsize'] = (25,15)"
      ],
      "execution_count": null,
      "outputs": []
    },
    {
      "cell_type": "code",
      "metadata": {
        "id": "2YJ9dxtCRUZw"
      },
      "source": [
        "plt.plot(real_stock_price, color = 'black', label = 'MSFT Stock Price')\n",
        "plt.plot(predicted_stock_price, color = 'orange', label = 'Predicted MSFT Stock Price', linestyle = 'solid')\n",
        "plt.title('MSFT Stock Price Prediction')\n",
        "plt.xlabel('Time')\n",
        "plt.ylabel('MSFT Stock Price')\n",
        "plt.legend()\n",
        "plt.show()"
      ],
      "execution_count": null,
      "outputs": []
    },
    {
      "cell_type": "code",
      "metadata": {
        "id": "tD6xzuQUDsQ7"
      },
      "source": [
        "\"time: \" + str(trainingTimeInSeconds).replace(\".\", \",\") + \" |  test_loss: \" + str(test_loss).replace(\".\", \",\") + \" | training_loss: \" + str(last_loss).replace(\".\", \",\")"
      ],
      "execution_count": null,
      "outputs": []
    }
  ]
}